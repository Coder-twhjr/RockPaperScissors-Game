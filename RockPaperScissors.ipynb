{
  "nbformat": 4,
  "nbformat_minor": 0,
  "metadata": {
    "colab": {
      "provenance": [],
      "collapsed_sections": [],
      "include_colab_link": true
    },
    "kernelspec": {
      "name": "python3",
      "display_name": "Python 3"
    }
  },
  "cells": [
    {
      "cell_type": "markdown",
      "metadata": {
        "id": "view-in-github",
        "colab_type": "text"
      },
      "source": [
        "<a href=\"https://colab.research.google.com/github/Coder-twhjr/RockPaperScissors-Game/blob/main/RockPaperScissors.ipynb\" target=\"_parent\"><img src=\"https://colab.research.google.com/assets/colab-badge.svg\" alt=\"Open In Colab\"/></a>"
      ]
    },
    {
      "cell_type": "markdown",
      "metadata": {
        "id": "e4QGT0wEyPzI"
      },
      "source": [
        "The Rock-Paper-Scissors Game"
      ]
    },
    {
      "cell_type": "markdown",
      "metadata": {
        "id": "HlBg2Ru0eNFF"
      },
      "source": [
        "---"
      ]
    },
    {
      "cell_type": "markdown",
      "metadata": {
        "id": "L7UdXXKRkGZb"
      },
      "source": [
        "### Overview\n",
        "\n",
        "A ROCK-PAPER-SCISSORS game in which a player plays either 'Rock', 'Paper' or 'Scissors' and a computer tries to beat the player based on the player's previous moves. This game is generally played between two people. The rules of this game are:\n",
        "\n",
        "1. Rock beats scissors.\n",
        "\n",
        "2. Scissors beat paper.\n",
        "\n",
        "3. Paper beats rock.\n",
        "\n",
        "\n",
        "\n",
        "A player should play his/her move by entering the numbers 0, 1 and 2 where- \n",
        "\n",
        "- 0 denotes ROCK.\n",
        "\n",
        "- 1 denotes PAPER.\n",
        "\n",
        "- 2 denotes SCISSORS.\n"
      ]
    },
    {
      "cell_type": "markdown",
      "metadata": {
        "id": "CtDFzWSsvovW"
      },
      "source": [
        "---"
      ]
    },
    {
      "cell_type": "markdown",
      "metadata": {
        "id": "9Q0M0oH0vn8W"
      },
      "source": [
        "### The Algorithm\n",
        "\n",
        "In the algorithm, the computer should keep a count of player moves (i.e., the counts for 0, 1 and 2) in three separate variables - `count_rock`, `count_paper` and `count_scissors`. The algorithm should decide the computer's move based on the following possibilities:\n",
        "\n",
        "- If  `count_rock` $\\\\>$ `count_paper` and `count_rock` $\\\\>$ `count_scissors`, then the computer's move should be ROCK.\n",
        "\n",
        "\n",
        "- If  `count_paper` $\\\\>$ `count_rock` and `count_paper` $\\\\>$ `count_scissors`, then the computer's move should be PAPER.\n",
        "\n",
        "- If  `count_scissors` $\\\\>$ `count_rock` and `count_scissors` $\\\\>$ `count_paper`, then the computer's move should be SCISSORS.\n",
        "\n",
        "- In all other cases, the computer should play ROCK, PAPER and SCISSORS randomly.\n"
      ]
    },
    {
      "cell_type": "markdown",
      "metadata": {
        "id": "fQa66ZmKvjbh"
      },
      "source": [
        "---"
      ]
    },
    {
      "cell_type": "markdown",
      "metadata": {
        "id": "-8TquayTxmCK"
      },
      "source": [
        "#### Import the `random` Module and Create the Count Variables"
      ]
    },
    {
      "cell_type": "code",
      "metadata": {
        "id": "tVGefK0W7XYm"
      },
      "source": [
        "import random\n",
        "count_rock = 0\n",
        "count_paper = 0\n",
        "count_scissors = 0"
      ],
      "execution_count": 1,
      "outputs": []
    },
    {
      "cell_type": "markdown",
      "metadata": {
        "id": "CLkrMirEd-J3"
      },
      "source": [
        "---"
      ]
    },
    {
      "cell_type": "markdown",
      "metadata": {
        "id": "wPiSv3iXyuPY"
      },
      "source": [
        "####The `update_counts()` Function"
      ]
    },
    {
      "cell_type": "code",
      "metadata": {
        "id": "aRXQ7Psmyc88"
      },
      "source": [
        "def update_counts(user_input):\n",
        "  global count_rock, count_paper, count_scissors\n",
        "  if user_input == 0:\n",
        "    count_rock += 1\n",
        "  elif user_input == 1:\n",
        "    count_paper += 1\n",
        "  else:\n",
        "    count_scissors += 1"
      ],
      "execution_count": 2,
      "outputs": []
    },
    {
      "cell_type": "markdown",
      "metadata": {
        "id": "d13rhawzeBL_"
      },
      "source": [
        "---"
      ]
    },
    {
      "cell_type": "markdown",
      "metadata": {
        "id": "lQNablFj2R2f"
      },
      "source": [
        "####`predict()` Function"
      ]
    },
    {
      "cell_type": "code",
      "metadata": {
        "id": "M5HlFFbx7Nj0",
        "colab": {
          "base_uri": "https://localhost:8080/"
        },
        "outputId": "d3234181-b71f-471b-889b-a2bf64ada09b"
      },
      "source": [
        "5 < 8 and 5 < 10"
      ],
      "execution_count": 3,
      "outputs": [
        {
          "output_type": "execute_result",
          "data": {
            "text/plain": [
              "True"
            ]
          },
          "metadata": {},
          "execution_count": 3
        }
      ]
    },
    {
      "cell_type": "code",
      "metadata": {
        "id": "l1_3WPBT77PL",
        "colab": {
          "base_uri": "https://localhost:8080/"
        },
        "outputId": "57016aaa-3192-4a76-a3f1-c52f559dfb2f"
      },
      "source": [
        "5 > 13 and 5 < 10"
      ],
      "execution_count": 4,
      "outputs": [
        {
          "output_type": "execute_result",
          "data": {
            "text/plain": [
              "False"
            ]
          },
          "metadata": {},
          "execution_count": 4
        }
      ]
    },
    {
      "cell_type": "code",
      "metadata": {
        "id": "mZx0NTuy2l2f"
      },
      "source": [
        "def predict():\n",
        "  if count_rock > count_paper and count_rock > count_scissors:\n",
        "    pred = 0\n",
        "  elif count_paper > count_rock and count_paper > count_scissors:\n",
        "    pred = 1\n",
        "  elif count_scissors > count_rock and count_scissors > count_paper:\n",
        "    pred = 2\n",
        "  else:\n",
        "    pred = random.randint(0, 2)\n",
        "\n",
        "  return pred"
      ],
      "execution_count": 5,
      "outputs": []
    },
    {
      "cell_type": "markdown",
      "metadata": {
        "id": "is9vbO8KeDg8"
      },
      "source": [
        "---"
      ]
    },
    {
      "cell_type": "markdown",
      "metadata": {
        "id": "X-z3Zc89DIdh"
      },
      "source": [
        "#### Scores"
      ]
    },
    {
      "cell_type": "code",
      "metadata": {
        "id": "kmTRqKuBDiVw"
      },
      "source": [
        "player_score = 0\n",
        "comp_score = 0"
      ],
      "execution_count": 6,
      "outputs": []
    },
    {
      "cell_type": "markdown",
      "metadata": {
        "id": "bUyVtX_QeE-G"
      },
      "source": [
        "---"
      ]
    },
    {
      "cell_type": "markdown",
      "metadata": {
        "id": "lhW2U1tRCJj_"
      },
      "source": [
        "#### The `update_scores()` Function\n",
        "\n"
      ]
    },
    {
      "cell_type": "code",
      "metadata": {
        "id": "GFcDtsfD4QuW",
        "colab": {
          "base_uri": "https://localhost:8080/"
        },
        "outputId": "1a011496-da66-4387-9249-1aee6cdc65cb"
      },
      "source": [
        "print(\"\\nPlacing the newline character before the string.\")"
      ],
      "execution_count": 7,
      "outputs": [
        {
          "output_type": "stream",
          "name": "stdout",
          "text": [
            "\n",
            "Placing the newline character before the string.\n"
          ]
        }
      ]
    },
    {
      "cell_type": "code",
      "metadata": {
        "id": "HDyHXJWv4XbG",
        "colab": {
          "base_uri": "https://localhost:8080/"
        },
        "outputId": "693ca12b-4362-4d4d-f8b4-cba9d652fa90"
      },
      "source": [
        "print(\"Placing the newline character before the string.\\n\")"
      ],
      "execution_count": 8,
      "outputs": [
        {
          "output_type": "stream",
          "name": "stdout",
          "text": [
            "Placing the newline character before the string.\n",
            "\n"
          ]
        }
      ]
    },
    {
      "cell_type": "code",
      "metadata": {
        "id": "2T3NfNyB-BXO"
      },
      "source": [
        "def update_scores(user_input):\n",
        "  global player_score, comp_score\n",
        "  pred = predict()\n",
        "  if user_input == 0:\n",
        "    if pred == 0:\n",
        "      print(\"\\nYou played ROCK, computer played ROCK.\")\n",
        "      print(\"\\nComputer Score: \", comp_score, \"\\nYour Score: \", player_score)\n",
        "    elif pred == 1:\n",
        "      print(\"\\nYou played ROCK, computer played PAPER.\")\n",
        "      comp_score += 1\n",
        "      print(\"\\nComputer Score: \", comp_score, \"\\nYour Score: \", player_score)\n",
        "    else:\n",
        "      print(\"\\nYou played ROCK, computer played SCISSORS.\")\n",
        "      player_score += 1\n",
        "      print(\"\\nComputer Score: \", comp_score, \"\\nYour Score: \", player_score)\n",
        "\n",
        "  elif user_input == 1:\n",
        "    if pred == 1:\n",
        "      print(\"\\nYou played PAPER, computer played PAPER.\")\n",
        "      print(\"\\nComputer Score: \", comp_score, \"\\nYour Score: \", player_score)\n",
        "    elif pred == 0:\n",
        "      print(\"\\nYou played PAPER, computer played ROCK.\")\n",
        "      player_score += 1\n",
        "      print(\"\\nComputer Score: \", comp_score, \"\\nYour Score: \", player_score)\n",
        "    else:\n",
        "      print(\"\\nYou played PAPER, computer played SCISSORS.\")\n",
        "      comp_score += 1\n",
        "      print(\"\\nComputer Score: \", comp_score, \"\\nYour Score: \", player_score)\n",
        "\n",
        "  else:\n",
        "    if pred == 2:\n",
        "      print(\"\\nYou played SCISSORS, computer played SCISSORS.\")\n",
        "      print(\"\\nComputer Score: \", comp_score, \"\\nYour Score: \", player_score)\n",
        "    elif pred == 1:\n",
        "      print(\"\\nYou played SCISSORS, computer played PAPER.\")\n",
        "      player_score += 1\n",
        "      print(\"\\nComputer Score: \", comp_score, \"\\nYour Score: \", player_score)\n",
        "    else:\n",
        "      print(\"\\nYou played SCISSORS, computer played ROCK.\")\n",
        "      comp_score += 1\n",
        "      print(\"\\nComputer Score: \", comp_score, \"\\nYour Score: \", player_score)"
      ],
      "execution_count": 9,
      "outputs": []
    },
    {
      "cell_type": "markdown",
      "metadata": {
        "id": "U8fwzPIXeHEA"
      },
      "source": [
        "---"
      ]
    },
    {
      "cell_type": "markdown",
      "metadata": {
        "id": "u-R8rU6fK3EW"
      },
      "source": [
        "#### Gameplay"
      ]
    },
    {
      "cell_type": "code",
      "metadata": {
        "id": "XunWo6pKe7jg",
        "colab": {
          "base_uri": "https://localhost:8080/"
        },
        "outputId": "00d1a0fb-749e-4a08-c57b-030a82c88f21"
      },
      "source": [
        "valid_entries = ['0', '1', '2']\n",
        "while True:\n",
        "  user_input = input(\"Enter 0 for ROCK, 1 for PAPER and 2 for SCISSORS: \")\n",
        "\n",
        "  while user_input not in valid_entries:\n",
        "    print(\"\\nInvalid Input!\")\n",
        "    user_input = input(\"Enter 0 for ROCK, 1 for PAPER and 2 for SCISSORS: \")\n",
        "\n",
        "  user_input = int(user_input)\n",
        "  update_scores(user_input)\n",
        "  update_counts(user_input)\n",
        "\n",
        "  if comp_score == 10:\n",
        "    print(\"Computer Won!\")\n",
        "    break\n",
        "  elif player_score == 10:\n",
        "    print(\"You won!\") \n",
        "    break"
      ],
      "execution_count": 10,
      "outputs": [
        {
          "output_type": "stream",
          "name": "stdout",
          "text": [
            "Enter 0 for ROCK, 1 for PAPER and 2 for SCISSORS: 1\n",
            "\n",
            "You played PAPER, computer played SCISSORS.\n",
            "\n",
            "Computer Score:  1 \n",
            "Your Score:  0\n",
            "Enter 0 for ROCK, 1 for PAPER and 2 for SCISSORS: 0\n",
            "\n",
            "You played ROCK, computer played PAPER.\n",
            "\n",
            "Computer Score:  2 \n",
            "Your Score:  0\n",
            "Enter 0 for ROCK, 1 for PAPER and 2 for SCISSORS: 2\n",
            "\n",
            "You played SCISSORS, computer played PAPER.\n",
            "\n",
            "Computer Score:  2 \n",
            "Your Score:  1\n",
            "Enter 0 for ROCK, 1 for PAPER and 2 for SCISSORS: 2\n",
            "\n",
            "You played SCISSORS, computer played SCISSORS.\n",
            "\n",
            "Computer Score:  2 \n",
            "Your Score:  1\n",
            "Enter 0 for ROCK, 1 for PAPER and 2 for SCISSORS: 1\n",
            "\n",
            "You played PAPER, computer played SCISSORS.\n",
            "\n",
            "Computer Score:  3 \n",
            "Your Score:  1\n",
            "Enter 0 for ROCK, 1 for PAPER and 2 for SCISSORS: 1\n",
            "\n",
            "You played PAPER, computer played ROCK.\n",
            "\n",
            "Computer Score:  3 \n",
            "Your Score:  2\n",
            "Enter 0 for ROCK, 1 for PAPER and 2 for SCISSORS: 0\n",
            "\n",
            "You played ROCK, computer played PAPER.\n",
            "\n",
            "Computer Score:  4 \n",
            "Your Score:  2\n",
            "Enter 0 for ROCK, 1 for PAPER and 2 for SCISSORS: 1\n",
            "\n",
            "You played PAPER, computer played PAPER.\n",
            "\n",
            "Computer Score:  4 \n",
            "Your Score:  2\n",
            "Enter 0 for ROCK, 1 for PAPER and 2 for SCISSORS: 2\n",
            "\n",
            "You played SCISSORS, computer played PAPER.\n",
            "\n",
            "Computer Score:  4 \n",
            "Your Score:  3\n",
            "Enter 0 for ROCK, 1 for PAPER and 2 for SCISSORS: 2\n",
            "\n",
            "You played SCISSORS, computer played PAPER.\n",
            "\n",
            "Computer Score:  4 \n",
            "Your Score:  4\n",
            "Enter 0 for ROCK, 1 for PAPER and 2 for SCISSORS: 1\n",
            "\n",
            "You played PAPER, computer played SCISSORS.\n",
            "\n",
            "Computer Score:  5 \n",
            "Your Score:  4\n",
            "Enter 0 for ROCK, 1 for PAPER and 2 for SCISSORS: 0\n",
            "\n",
            "You played ROCK, computer played PAPER.\n",
            "\n",
            "Computer Score:  6 \n",
            "Your Score:  4\n",
            "Enter 0 for ROCK, 1 for PAPER and 2 for SCISSORS: 1\n",
            "\n",
            "You played PAPER, computer played PAPER.\n",
            "\n",
            "Computer Score:  6 \n",
            "Your Score:  4\n",
            "Enter 0 for ROCK, 1 for PAPER and 2 for SCISSORS: 1\n",
            "\n",
            "You played PAPER, computer played PAPER.\n",
            "\n",
            "Computer Score:  6 \n",
            "Your Score:  4\n",
            "Enter 0 for ROCK, 1 for PAPER and 2 for SCISSORS: 0\n",
            "\n",
            "You played ROCK, computer played PAPER.\n",
            "\n",
            "Computer Score:  7 \n",
            "Your Score:  4\n",
            "Enter 0 for ROCK, 1 for PAPER and 2 for SCISSORS: 1\n",
            "\n",
            "You played PAPER, computer played PAPER.\n",
            "\n",
            "Computer Score:  7 \n",
            "Your Score:  4\n",
            "Enter 0 for ROCK, 1 for PAPER and 2 for SCISSORS: 2\n",
            "\n",
            "You played SCISSORS, computer played PAPER.\n",
            "\n",
            "Computer Score:  7 \n",
            "Your Score:  5\n",
            "Enter 0 for ROCK, 1 for PAPER and 2 for SCISSORS: 0\n",
            "\n",
            "You played ROCK, computer played PAPER.\n",
            "\n",
            "Computer Score:  8 \n",
            "Your Score:  5\n",
            "Enter 0 for ROCK, 1 for PAPER and 2 for SCISSORS: 1\n",
            "\n",
            "You played PAPER, computer played PAPER.\n",
            "\n",
            "Computer Score:  8 \n",
            "Your Score:  5\n",
            "Enter 0 for ROCK, 1 for PAPER and 2 for SCISSORS: 2\n",
            "\n",
            "You played SCISSORS, computer played PAPER.\n",
            "\n",
            "Computer Score:  8 \n",
            "Your Score:  6\n",
            "Enter 0 for ROCK, 1 for PAPER and 2 for SCISSORS: 0\n",
            "\n",
            "You played ROCK, computer played PAPER.\n",
            "\n",
            "Computer Score:  9 \n",
            "Your Score:  6\n",
            "Enter 0 for ROCK, 1 for PAPER and 2 for SCISSORS: 2\n",
            "\n",
            "You played SCISSORS, computer played PAPER.\n",
            "\n",
            "Computer Score:  9 \n",
            "Your Score:  7\n",
            "Enter 0 for ROCK, 1 for PAPER and 2 for SCISSORS: 1\n",
            "\n",
            "You played PAPER, computer played PAPER.\n",
            "\n",
            "Computer Score:  9 \n",
            "Your Score:  7\n",
            "Enter 0 for ROCK, 1 for PAPER and 2 for SCISSORS: 0\n",
            "\n",
            "You played ROCK, computer played PAPER.\n",
            "\n",
            "Computer Score:  10 \n",
            "Your Score:  7\n",
            "Computer Won!\n"
          ]
        }
      ]
    },
    {
      "cell_type": "markdown",
      "metadata": {
        "id": "6i4qUgiVdhgP"
      },
      "source": [
        "---"
      ]
    }
  ]
}